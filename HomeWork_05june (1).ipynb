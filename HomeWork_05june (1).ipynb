{
 "cells": [
  {
   "cell_type": "raw",
   "id": "4edacbc1",
   "metadata": {},
   "source": [
    " q1 : Try to print a prime number in between 1 to 1000\n",
    "    q2 : Try to write a function which  is equivalent  to print function in python\n",
    "    q3 : Try to write a function which is a replica of list append , extend and pop function \n",
    "    q4 : Try to write a lambda function which can return a concatination of all the string that we will pass\n",
    "    q5 : Try to write a lambda function which can return list of square of all the data between 1-100 \n",
    "    q6 : Try to write a 10 Different different example of lambda function with a choice of your taks \n",
    "    q7 : Try to wwrite a funtion whihc can perform a read operation from .txt file \n",
    "        "
   ]
  },
  {
   "cell_type": "code",
   "execution_count": 85,
   "id": "799fe5b3",
   "metadata": {},
   "outputs": [
    {
     "name": "stdout",
     "output_type": "stream",
     "text": [
      "2\n",
      "3\n",
      "5\n",
      "7\n",
      "11\n",
      "13\n",
      "17\n",
      "19\n",
      "23\n",
      "29\n",
      "31\n",
      "37\n",
      "41\n",
      "43\n",
      "47\n",
      "53\n",
      "59\n",
      "61\n",
      "67\n",
      "71\n",
      "73\n",
      "79\n",
      "83\n",
      "89\n",
      "97\n",
      "101\n",
      "103\n",
      "107\n",
      "109\n",
      "113\n",
      "127\n",
      "131\n",
      "137\n",
      "139\n",
      "149\n",
      "151\n",
      "157\n",
      "163\n",
      "167\n",
      "173\n",
      "179\n",
      "181\n",
      "191\n",
      "193\n",
      "197\n",
      "199\n",
      "211\n",
      "223\n",
      "227\n",
      "229\n",
      "233\n",
      "239\n",
      "241\n",
      "251\n",
      "257\n",
      "263\n",
      "269\n",
      "271\n",
      "277\n",
      "281\n",
      "283\n",
      "293\n",
      "307\n",
      "311\n",
      "313\n",
      "317\n",
      "331\n",
      "337\n",
      "347\n",
      "349\n",
      "353\n",
      "359\n",
      "367\n",
      "373\n",
      "379\n",
      "383\n",
      "389\n",
      "397\n",
      "401\n",
      "409\n",
      "419\n",
      "421\n",
      "431\n",
      "433\n",
      "439\n",
      "443\n",
      "449\n",
      "457\n",
      "461\n",
      "463\n",
      "467\n",
      "479\n",
      "487\n",
      "491\n",
      "499\n",
      "503\n",
      "509\n",
      "521\n",
      "523\n",
      "541\n",
      "547\n",
      "557\n",
      "563\n",
      "569\n",
      "571\n",
      "577\n",
      "587\n",
      "593\n",
      "599\n",
      "601\n",
      "607\n",
      "613\n",
      "617\n",
      "619\n",
      "631\n",
      "641\n",
      "643\n",
      "647\n",
      "653\n",
      "659\n",
      "661\n",
      "673\n",
      "677\n",
      "683\n",
      "691\n",
      "701\n",
      "709\n",
      "719\n",
      "727\n",
      "733\n",
      "739\n",
      "743\n",
      "751\n",
      "757\n",
      "761\n",
      "769\n",
      "773\n",
      "787\n",
      "797\n",
      "809\n",
      "811\n",
      "821\n",
      "823\n",
      "827\n",
      "829\n",
      "839\n",
      "853\n",
      "857\n",
      "859\n",
      "863\n",
      "877\n",
      "881\n",
      "883\n",
      "887\n",
      "907\n",
      "911\n",
      "919\n",
      "929\n",
      "937\n",
      "941\n",
      "947\n",
      "953\n",
      "967\n",
      "971\n",
      "977\n",
      "983\n",
      "991\n",
      "997\n"
     ]
    }
   ],
   "source": [
    "#q1\n",
    "def prime_num(a,b):\n",
    "    for i in range(a,b):\n",
    "        if i>1:\n",
    "            for j in range(2,i):\n",
    "                if i%j ==0:\n",
    "                    break\n",
    "            else:\n",
    "                print(i)\n",
    "    \n",
    "        \n",
    "  \n",
    "prime_num(1,1000)          \n"
   ]
  },
  {
   "cell_type": "code",
   "execution_count": 34,
   "id": "cda71ea7",
   "metadata": {},
   "outputs": [],
   "source": [
    "#q2\n",
    "def type(*m):\n",
    "    return m"
   ]
  },
  {
   "cell_type": "code",
   "execution_count": 35,
   "id": "6489baf5",
   "metadata": {},
   "outputs": [
    {
     "data": {
      "text/plain": [
       "(1, 2, 3, 4, 54, 433)"
      ]
     },
     "execution_count": 35,
     "metadata": {},
     "output_type": "execute_result"
    }
   ],
   "source": [
    "type(1,2,3,4,54,433)"
   ]
  },
  {
   "cell_type": "code",
   "execution_count": 70,
   "id": "4a4473d0",
   "metadata": {},
   "outputs": [
    {
     "name": "stdout",
     "output_type": "stream",
     "text": [
      "enter whatever you want:1\n",
      "enter whatever you want:2\n",
      "enter whatever you want:3\n",
      "enter whatever you want:4\n",
      "enter whatever you want:5\n",
      "enter whatever you want:56\n"
     ]
    },
    {
     "data": {
      "text/plain": [
       "[1, 2, 3, 4, 5, 56]"
      ]
     },
     "execution_count": 70,
     "metadata": {},
     "output_type": "execute_result"
    }
   ],
   "source": [
    "#q3\n",
    "#replica #append\n",
    "l=[]\n",
    "def install(number_of_elements):\n",
    "    for i in range(number_of_elements):\n",
    "        k=eval(input(\"enter whatever you want:\"))\n",
    "        p=len(l)\n",
    "        l.insert(p,k)\n",
    "    return l\n",
    "install(6)"
   ]
  },
  {
   "cell_type": "code",
   "execution_count": 79,
   "id": "ead9a5df",
   "metadata": {},
   "outputs": [
    {
     "name": "stdout",
     "output_type": "stream",
     "text": [
      "kuchh bhi type kar:1,\"str\"\n"
     ]
    },
    {
     "data": {
      "text/plain": [
       "[1, 2, 3, 1, 'str']"
      ]
     },
     "execution_count": 79,
     "metadata": {},
     "output_type": "execute_result"
    }
   ],
   "source": [
    "#replica #extend\n",
    "def extend(list,n):\n",
    "    for i in n:\n",
    "        p=len(list)\n",
    "        list.insert(p,i)\n",
    "    return list\n",
    "\n",
    "extend([1,2,3],n=eval(input(\"kuchh bhi type kar:\")))"
   ]
  },
  {
   "cell_type": "code",
   "execution_count": 125,
   "id": "25cfaaed",
   "metadata": {},
   "outputs": [
    {
     "data": {
      "text/plain": [
       "[1, 3, 5]"
      ]
     },
     "execution_count": 125,
     "metadata": {},
     "output_type": "execute_result"
    }
   ],
   "source": [
    "#replica #pop\n",
    "def pop(list):\n",
    "    list.remove(list[len(list)-1])\n",
    "    return list\n",
    "pop([1,3,5,6])\n",
    "        \n",
    "    \n",
    "    "
   ]
  },
  {
   "cell_type": "code",
   "execution_count": 4,
   "id": "66092187",
   "metadata": {},
   "outputs": [
    {
     "data": {
      "text/plain": [
       "'ineuronclassesdata science'"
      ]
     },
     "execution_count": 4,
     "metadata": {},
     "output_type": "execute_result"
    }
   ],
   "source": [
    "#q4:\n",
    "l=['ineuron','classes','data science']\n",
    "from functools import reduce\n",
    "reduce(lambda a,b:a+b,l)\n",
    "\n"
   ]
  },
  {
   "cell_type": "code",
   "execution_count": 10,
   "id": "5547f771",
   "metadata": {},
   "outputs": [
    {
     "data": {
      "text/plain": [
       "'humanbeinghowzatt'"
      ]
     },
     "execution_count": 10,
     "metadata": {},
     "output_type": "execute_result"
    }
   ],
   "source": [
    "#2nd approach\n",
    "t=['human',78,'being',765,'howzatt']\n",
    "''.join(filter(lambda x:type(x)== str,t))"
   ]
  },
  {
   "cell_type": "code",
   "execution_count": 13,
   "id": "bfbf3954",
   "metadata": {},
   "outputs": [
    {
     "data": {
      "text/plain": [
       "[1,\n",
       " 4,\n",
       " 9,\n",
       " 16,\n",
       " 25,\n",
       " 36,\n",
       " 49,\n",
       " 64,\n",
       " 81,\n",
       " 100,\n",
       " 121,\n",
       " 144,\n",
       " 169,\n",
       " 196,\n",
       " 225,\n",
       " 256,\n",
       " 289,\n",
       " 324,\n",
       " 361,\n",
       " 400,\n",
       " 441,\n",
       " 484,\n",
       " 529,\n",
       " 576,\n",
       " 625,\n",
       " 676,\n",
       " 729,\n",
       " 784,\n",
       " 841,\n",
       " 900,\n",
       " 961,\n",
       " 1024,\n",
       " 1089,\n",
       " 1156,\n",
       " 1225,\n",
       " 1296,\n",
       " 1369,\n",
       " 1444,\n",
       " 1521,\n",
       " 1600,\n",
       " 1681,\n",
       " 1764,\n",
       " 1849,\n",
       " 1936,\n",
       " 2025,\n",
       " 2116,\n",
       " 2209,\n",
       " 2304,\n",
       " 2401,\n",
       " 2500,\n",
       " 2601,\n",
       " 2704,\n",
       " 2809,\n",
       " 2916,\n",
       " 3025,\n",
       " 3136,\n",
       " 3249,\n",
       " 3364,\n",
       " 3481,\n",
       " 3600,\n",
       " 3721,\n",
       " 3844,\n",
       " 3969,\n",
       " 4096,\n",
       " 4225,\n",
       " 4356,\n",
       " 4489,\n",
       " 4624,\n",
       " 4761,\n",
       " 4900,\n",
       " 5041,\n",
       " 5184,\n",
       " 5329,\n",
       " 5476,\n",
       " 5625,\n",
       " 5776,\n",
       " 5929,\n",
       " 6084,\n",
       " 6241,\n",
       " 6400,\n",
       " 6561,\n",
       " 6724,\n",
       " 6889,\n",
       " 7056,\n",
       " 7225,\n",
       " 7396,\n",
       " 7569,\n",
       " 7744,\n",
       " 7921,\n",
       " 8100,\n",
       " 8281,\n",
       " 8464,\n",
       " 8649,\n",
       " 8836,\n",
       " 9025,\n",
       " 9216,\n",
       " 9409,\n",
       " 9604,\n",
       " 9801]"
      ]
     },
     "execution_count": 13,
     "metadata": {},
     "output_type": "execute_result"
    }
   ],
   "source": [
    "#q5\n",
    "k=list(range(1,100))\n",
    "list(map(lambda x:x**2,k))"
   ]
  },
  {
   "cell_type": "code",
   "execution_count": null,
   "id": "a3d60996",
   "metadata": {},
   "outputs": [],
   "source": []
  },
  {
   "cell_type": "code",
   "execution_count": 14,
   "id": "bc7acef9",
   "metadata": {},
   "outputs": [
    {
     "name": "stdout",
     "output_type": "stream",
     "text": [
      "18\n"
     ]
    }
   ],
   "source": [
    "#q7\n",
    "#eg1\n",
    "into_2=lambda a:a*2\n",
    "print(into_2(9))"
   ]
  },
  {
   "cell_type": "code",
   "execution_count": 15,
   "id": "bcb3d5e9",
   "metadata": {},
   "outputs": [
    {
     "name": "stdout",
     "output_type": "stream",
     "text": [
      "49\n"
     ]
    }
   ],
   "source": [
    "#eg2\n",
    "square=lambda x:x*x\n",
    "print(square(7))"
   ]
  },
  {
   "cell_type": "code",
   "execution_count": 17,
   "id": "76ed665b",
   "metadata": {},
   "outputs": [
    {
     "name": "stdout",
     "output_type": "stream",
     "text": [
      "343\n"
     ]
    }
   ],
   "source": [
    "#eg3\n",
    "cubing=lambda x:x**3\n",
    "print(cubing(7))"
   ]
  },
  {
   "cell_type": "code",
   "execution_count": 21,
   "id": "7f89d9f3",
   "metadata": {},
   "outputs": [
    {
     "data": {
      "text/plain": [
       "[2, 4]"
      ]
     },
     "execution_count": 21,
     "metadata": {},
     "output_type": "execute_result"
    }
   ],
   "source": [
    "#eg4\n",
    "#with if statement\n",
    "l=[1,2,3,4,45,5]\n",
    "list(filter(lambda x:x%2==0,l))\n"
   ]
  },
  {
   "cell_type": "code",
   "execution_count": 23,
   "id": "fb2a358b",
   "metadata": {},
   "outputs": [
    {
     "data": {
      "text/plain": [
       "2600"
      ]
     },
     "execution_count": 23,
     "metadata": {},
     "output_type": "execute_result"
    }
   ],
   "source": [
    "#eg5\n",
    "#sum\n",
    "l=[2342,54,56,64,6,78]\n",
    "reduce(lambda a,b:a+b,l)"
   ]
  },
  {
   "cell_type": "code",
   "execution_count": 24,
   "id": "5cba53af",
   "metadata": {},
   "outputs": [
    {
     "data": {
      "text/plain": [
       "212126294016"
      ]
     },
     "execution_count": 24,
     "metadata": {},
     "output_type": "execute_result"
    }
   ],
   "source": [
    "#eg6\n",
    "#product\n",
    "l=[2342,54,56,64,6,78]\n",
    "reduce(lambda a,b:a*b,l)"
   ]
  },
  {
   "cell_type": "code",
   "execution_count": 26,
   "id": "748abdb3",
   "metadata": {},
   "outputs": [
    {
     "data": {
      "text/plain": [
       "[False, False, False, False]"
      ]
     },
     "execution_count": 26,
     "metadata": {},
     "output_type": "execute_result"
    }
   ],
   "source": [
    "#eg7\n",
    "#checking a condition\n",
    "l=['dog','cat','mouse','bakri']\n",
    "list(map(lambda x:x.isupper(),l))"
   ]
  },
  {
   "cell_type": "code",
   "execution_count": 28,
   "id": "ff8b0bda",
   "metadata": {},
   "outputs": [
    {
     "data": {
      "text/plain": [
       "['DOG', 'CAT', 'MOUSE', 'BAKRI']"
      ]
     },
     "execution_count": 28,
     "metadata": {},
     "output_type": "execute_result"
    }
   ],
   "source": [
    "#eg8\n",
    "#conversion\n",
    "l=['dog','cat','mouse','bakri']\n",
    "list(map(lambda x:str.upper(x),l))"
   ]
  },
  {
   "cell_type": "code",
   "execution_count": 43,
   "id": "2db554b1",
   "metadata": {},
   "outputs": [
    {
     "data": {
      "text/plain": [
       "[(2, 3, 4, 5, 48, 65, 45, 48, 652, 344)]"
      ]
     },
     "execution_count": 43,
     "metadata": {},
     "output_type": "execute_result"
    }
   ],
   "source": [
    "#eg9\n",
    "#using for loop with lambda function\n",
    "l=(2,3,4,5,48,65,45,48,652,344)\n",
    "k=lambda *x:[i for i in x]\n",
    "k(l)"
   ]
  },
  {
   "cell_type": "code",
   "execution_count": 44,
   "id": "b33f29ef",
   "metadata": {},
   "outputs": [
    {
     "data": {
      "text/plain": [
       "'humanbeinghowzatt'"
      ]
     },
     "execution_count": 44,
     "metadata": {},
     "output_type": "execute_result"
    }
   ],
   "source": [
    "#eg10\n",
    "#join operation,STRING\n",
    "t=['human',78,'being',765,'howzatt']\n",
    "''.join(filter(lambda x:type(x)== str,t))\n"
   ]
  },
  {
   "cell_type": "code",
   "execution_count": 82,
   "id": "b71d4b10",
   "metadata": {},
   "outputs": [],
   "source": [
    "#q7\n",
    "def fun(filename):\n",
    "    f=open(filename,\"r\")\n",
    "    f.seek(int(input(\"set the pointer:\")))\n",
    "    \n",
    "    return f.read()\n",
    "   "
   ]
  },
  {
   "cell_type": "code",
   "execution_count": 83,
   "id": "854d68a2",
   "metadata": {},
   "outputs": [
    {
     "name": "stdout",
     "output_type": "stream",
     "text": [
      "set the pointer:5\n"
     ]
    },
    {
     "data": {
      "text/plain": [
       "'is my different writing operation\\n'"
      ]
     },
     "execution_count": 83,
     "metadata": {},
     "output_type": "execute_result"
    }
   ],
   "source": [
    "fun(\"test5.txt\")"
   ]
  },
  {
   "cell_type": "code",
   "execution_count": null,
   "id": "2261954f",
   "metadata": {},
   "outputs": [],
   "source": []
  },
  {
   "cell_type": "code",
   "execution_count": 71,
   "id": "f66c5f48",
   "metadata": {},
   "outputs": [],
   "source": []
  },
  {
   "cell_type": "code",
   "execution_count": null,
   "id": "5c343b26",
   "metadata": {},
   "outputs": [],
   "source": []
  },
  {
   "cell_type": "code",
   "execution_count": null,
   "id": "52f61322",
   "metadata": {},
   "outputs": [],
   "source": []
  }
 ],
 "metadata": {
  "kernelspec": {
   "display_name": "Python 3 (ipykernel)",
   "language": "python",
   "name": "python3"
  },
  "language_info": {
   "codemirror_mode": {
    "name": "ipython",
    "version": 3
   },
   "file_extension": ".py",
   "mimetype": "text/x-python",
   "name": "python",
   "nbconvert_exporter": "python",
   "pygments_lexer": "ipython3",
   "version": "3.9.12"
  }
 },
 "nbformat": 4,
 "nbformat_minor": 5
}
