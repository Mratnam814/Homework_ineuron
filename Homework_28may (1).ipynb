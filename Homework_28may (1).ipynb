{
 "cells": [
  {
   "cell_type": "raw",
   "id": "b90c6f38",
   "metadata": {},
   "source": [
    "q1 :\n",
    "ineruon \n",
    "ineruon ineruon \n",
    "ineruon ineruon ineruon\n",
    "ineruon ineruon ineruon ineruon\n",
    "\n",
    "q2 - \n",
    "\n",
    "          ineruon\n",
    "    ineruon      ineruon\n",
    "ineruon\t\tineruon \tineruon\n",
    "\tineruon\t\t ineruon\n",
    "\t\t  ineruon\n",
    "\n",
    "l = [[1,2,3,4] , (2,3,4,5,6) , (3,4,5,6,7) , set([23,4,5,45,4,4,5,45,45,4,5]) , {'k1' :\"sudh\" , \"k2\" : \"ineuron\",\"k3\":\n",
    "            \"kumar\" , 3:6 , 7:8} , [\"ineuron\" , \"data science \"]]\n",
    "\n",
    "q3 : Try to extract all the list entity \n",
    "q4 : Try to extract all the dict enteties\n",
    "q5 : Try to extract all the tuples entities\n",
    "q6 : Try to extract all the numerical data it may b a part of dict key and values \n",
    "q7 : Try to give summation of all the numeric data \n",
    "q8 : Try to filter out all the odd values out all numeric data which is a part of a list \n",
    "q9 : Try to extract \"ineruon\" out of this data\n",
    "q10 :Try to find out a number of occurances of all the data \n",
    "q11 : Try to find out number of keys in dict element\n",
    "q12 : Try to filter out all the string data \n",
    "q13 : Try to Find  out alphanum in data\n",
    "q14 : Try to find out multiplication of all numeric value in  the individual collection inside dataset \n",
    "q15 : Try to unwrape all the collection inside collection and create a flat list \n",
    "    \n",
    "    "
   ]
  },
  {
   "cell_type": "code",
   "execution_count": 14,
   "id": "418d9950",
   "metadata": {},
   "outputs": [
    {
     "name": "stdout",
     "output_type": "stream",
     "text": [
      "Enter the number of rows:4\n",
      "ineuron \n",
      "ineuron ineuron \n",
      "ineuron ineuron ineuron \n",
      "ineuron ineuron ineuron ineuron \n"
     ]
    }
   ],
   "source": [
    "#q1:\n",
    "n=int(input(\"Enter the number of rows:\"))\n",
    "for i in range(n):\n",
    "    for j in range(i+1):\n",
    "        print(\"ineuron\",end=\" \")\n",
    "    print()\n",
    "   "
   ]
  },
  {
   "cell_type": "code",
   "execution_count": 64,
   "id": "e126ae0e",
   "metadata": {},
   "outputs": [
    {
     "name": "stdout",
     "output_type": "stream",
     "text": [
      "               ineuron   \n",
      "          ineuron   ineuron   \n",
      "     ineuron   ineuron   ineuron   \n",
      "          ineuron   ineuron   \n",
      "               ineuron   \n"
     ]
    }
   ],
   "source": [
    "#q2\n",
    "n=3\n",
    "for i in range(n-1):\n",
    "    for j in range(i,n):\n",
    "        print(\"    \",end=\" \")\n",
    "   \n",
    "    for j in range(i+1):\n",
    "        print(\"ineuron\",end=\"   \")\n",
    "    print()\n",
    "for i in range(n):\n",
    "    for j in range(i+1):\n",
    "        print(\"    \",end=\" \")\n",
    "    for j in range(n-i):\n",
    "        print(\"ineuron\",end=\"   \")\n",
    "        \n",
    "    \n",
    "        \n",
    "    print()\n",
    "   \n",
    "        \n",
    "               \n",
    "                \n",
    "            \n",
    "     \n",
    "        \n",
    "        \n",
    "\n",
    "    \n",
    "         \n",
    "        "
   ]
  },
  {
   "cell_type": "code",
   "execution_count": 68,
   "id": "cef978d5",
   "metadata": {},
   "outputs": [
    {
     "name": "stdout",
     "output_type": "stream",
     "text": [
      "[1, 2, 3, 4]\n",
      "['ineuron', 'data science ']\n"
     ]
    }
   ],
   "source": [
    "#q3\n",
    "l = [[1,2,3,4] , (2,3,4,5,6) , (3,4,5,6,7) , set([23,4,5,45,4,4,5,45,45,4,5]) , {'k1' :\"sudh\" , \"k2\" : \"ineuron\",\"k3\":\n",
    "            \"kumar\" , 3:6 , 7:8} , [\"ineuron\" , \"data science \"]]\n",
    "for i in l:\n",
    "    if type(i)==list:\n",
    "        print(i)"
   ]
  },
  {
   "cell_type": "code",
   "execution_count": 69,
   "id": "22e99ce4",
   "metadata": {},
   "outputs": [
    {
     "name": "stdout",
     "output_type": "stream",
     "text": [
      "{'k1': 'sudh', 'k2': 'ineuron', 'k3': 'kumar', 3: 6, 7: 8}\n"
     ]
    }
   ],
   "source": [
    "#q4\n",
    "for i in l:\n",
    "    if type(i)==dict:\n",
    "        print(i)"
   ]
  },
  {
   "cell_type": "code",
   "execution_count": 70,
   "id": "8a7dca6d",
   "metadata": {},
   "outputs": [
    {
     "name": "stdout",
     "output_type": "stream",
     "text": [
      "(2, 3, 4, 5, 6)\n",
      "(3, 4, 5, 6, 7)\n"
     ]
    }
   ],
   "source": [
    "#q5\n",
    "for i in l:\n",
    "    if type(i)==tuple:\n",
    "        print(i)\n"
   ]
  },
  {
   "cell_type": "code",
   "execution_count": 75,
   "id": "f66fa816",
   "metadata": {},
   "outputs": [
    {
     "name": "stdout",
     "output_type": "stream",
     "text": [
      "1\n",
      "2\n",
      "3\n",
      "4\n",
      "2\n",
      "3\n",
      "4\n",
      "5\n",
      "6\n",
      "3\n",
      "4\n",
      "5\n",
      "6\n",
      "7\n",
      "45\n",
      "4\n",
      "5\n",
      "23\n",
      "3\n",
      "6\n",
      "7\n",
      "8\n"
     ]
    }
   ],
   "source": [
    "#q6\n",
    "for i in l:\n",
    "    if type(i)==list or type(i)==set or type(i)==tuple:\n",
    "        for k in i:\n",
    "            if type(k)==int:\n",
    "                print(k)\n",
    "    if type(i)==dict:\n",
    "        for m,n in i.items():\n",
    "            if type(m)==int or type(n)==int:\n",
    "                print(m)\n",
    "                print(n)\n",
    "            \n",
    "    "
   ]
  },
  {
   "cell_type": "code",
   "execution_count": 79,
   "id": "e417159c",
   "metadata": {},
   "outputs": [
    {
     "name": "stdout",
     "output_type": "stream",
     "text": [
      "156\n"
     ]
    }
   ],
   "source": [
    "#q7\n",
    "h=[]\n",
    "for i in l:\n",
    "    if type(i)==list or type(i)==set or type(i)==tuple:\n",
    "        for k in i:\n",
    "            if type(k)==int:\n",
    "                h.append(k)\n",
    "    if type(i)==dict:\n",
    "        for m,n in i.items():\n",
    "            if type(m)==int or type(n)==int:\n",
    "                h.append(m)\n",
    "                h.append(n)\n",
    "s=0\n",
    "for i in h:\n",
    "    s=s+i\n",
    "print(s)\n",
    "    \n",
    "            "
   ]
  },
  {
   "cell_type": "code",
   "execution_count": 87,
   "id": "81039b24",
   "metadata": {},
   "outputs": [
    {
     "name": "stdout",
     "output_type": "stream",
     "text": [
      "1\n",
      "3\n",
      "3\n",
      "5\n",
      "3\n",
      "5\n",
      "7\n",
      "45\n",
      "5\n",
      "23\n",
      "3\n",
      "7\n"
     ]
    }
   ],
   "source": [
    "#q8\n",
    "for i in h:\n",
    "    if i % 2 !=0:\n",
    "        print(i)"
   ]
  },
  {
   "cell_type": "code",
   "execution_count": 110,
   "id": "a3a00528",
   "metadata": {},
   "outputs": [
    {
     "name": "stdout",
     "output_type": "stream",
     "text": [
      "ineuron\n",
      "ineuron\n"
     ]
    }
   ],
   "source": [
    "#q9\n",
    "for i in l:\n",
    "    if type(i)==list:\n",
    "        for j in i:\n",
    "            if j=='ineuron':\n",
    "                print(j)\n",
    "    if type(i)==dict:\n",
    "        for p,q in i.items():\n",
    "            if q=='ineuron':\n",
    "                print(q)\n",
    "            if p=='ineuron':\n",
    "                print(p)\n",
    "           \n",
    "            \n",
    "           \n",
    "                 \n",
    "        \n",
    "       \n",
    "\n",
    "    "
   ]
  },
  {
   "cell_type": "code",
   "execution_count": 145,
   "id": "47410d60",
   "metadata": {},
   "outputs": [
    {
     "name": "stdout",
     "output_type": "stream",
     "text": [
      "1 : 1\n",
      "2 : 2\n",
      "3 : 4\n",
      "4 : 4\n",
      "5 : 3\n",
      "6 : 3\n",
      "7 : 2\n",
      "sudh : 1\n",
      "ineuron : 2\n",
      "kumar : 1\n",
      "8 : 1\n",
      "data science  : 1\n",
      "45 : 1\n",
      "k2 : 1\n",
      "k3 : 1\n",
      "23 : 1\n",
      "k1 : 1\n"
     ]
    }
   ],
   "source": [
    "#q10\n",
    "h=[]\n",
    "for i in l:\n",
    "    if type(i)==list or type(i)==set or type(i)==tuple:\n",
    "        for k in i:\n",
    "            if type(k)==int or type(k)==str or type(k)==tuple or type(k)==set:\n",
    "                h.append(k)\n",
    "    if type(i)==dict:\n",
    "        for m,n in i.items():\n",
    "            if type(m)==int or type(m)==str:\n",
    "                h.append(m)\n",
    "            if type(n)==int or type(n)==str:\n",
    "                h.append(n)\n",
    "for t in set(h):\n",
    "    print(t,\":\",h.count(t))\n",
    "   \n",
    "    \n",
    "    \n"
   ]
  },
  {
   "cell_type": "code",
   "execution_count": 146,
   "id": "fba8e714",
   "metadata": {},
   "outputs": [
    {
     "name": "stdout",
     "output_type": "stream",
     "text": [
      "k1\n",
      "k2\n",
      "k3\n",
      "3\n",
      "7\n"
     ]
    }
   ],
   "source": [
    "#q11\n",
    "for i in l:\n",
    "    if type(i)==dict:\n",
    "        for k in i:\n",
    "            print(k)"
   ]
  },
  {
   "cell_type": "code",
   "execution_count": 147,
   "id": "03f47773",
   "metadata": {},
   "outputs": [
    {
     "name": "stdout",
     "output_type": "stream",
     "text": [
      "k1\n",
      "sudh\n",
      "k2\n",
      "ineuron\n",
      "k3\n",
      "kumar\n",
      "ineuron\n",
      "data science \n"
     ]
    }
   ],
   "source": [
    "#q12\n",
    "for i in l:\n",
    "     if type(i)==list or type(i)==set or type(i)==tuple:\n",
    "            for k in i:\n",
    "                if type(k)==str:\n",
    "                    print(k)\n",
    "     if type(i)==dict:\n",
    "            for m,n in i.items():\n",
    "                if type(m)==str or type(n)==str:\n",
    "                    print(m)\n",
    "                    print(n)\n",
    "    \n",
    "    \n",
    "    \n",
    "                    "
   ]
  },
  {
   "cell_type": "code",
   "execution_count": 148,
   "id": "817f8d0d",
   "metadata": {},
   "outputs": [
    {
     "name": "stdout",
     "output_type": "stream",
     "text": [
      "k1\n",
      "sudh\n",
      "k2\n",
      "ineuron\n",
      "k3\n",
      "kumar\n",
      "ineuron\n"
     ]
    }
   ],
   "source": [
    "#q13\n",
    "for i in h:\n",
    "    if type(i)==str:\n",
    "        if i.isalnum():\n",
    "            print(i)\n",
    "        \n",
    "   \n",
    "               "
   ]
  },
  {
   "cell_type": "code",
   "execution_count": 155,
   "id": "85b433d6",
   "metadata": {},
   "outputs": [
    {
     "name": "stdout",
     "output_type": "stream",
     "text": [
      "908605071360000\n"
     ]
    }
   ],
   "source": [
    "#q14\n",
    "a=[]\n",
    "for i in l:\n",
    "    if type(i)==list or type(i)==set or type(i)==tuple:\n",
    "        for k in i:\n",
    "            if type(k)==int:\n",
    "                a.append(k)\n",
    "    if type(i)==dict:\n",
    "        for m,n in i.items():\n",
    "            if type(m)==int or type(n)==int:\n",
    "                a.append(m)\n",
    "                a.append(n)\n",
    "m=1\n",
    "for t in a:\n",
    "    m=m*t\n",
    "print(m)\n",
    "    "
   ]
  },
  {
   "cell_type": "code",
   "execution_count": 157,
   "id": "6373ec8a",
   "metadata": {},
   "outputs": [
    {
     "name": "stdout",
     "output_type": "stream",
     "text": [
      "[1, 2, 3, 4, 2, 3, 4, 5, 6, 3, 4, 5, 6, 7, 45, 4, 5, 23, 'k1', 'sudh', 'k2', 'ineuron', 'k3', 'kumar', 3, 6, 7, 8, 'ineuron', 'data science '] "
     ]
    }
   ],
   "source": [
    "#q15\n",
    "print(h,end=\" \")"
   ]
  },
  {
   "cell_type": "code",
   "execution_count": null,
   "id": "06c486fe",
   "metadata": {},
   "outputs": [],
   "source": []
  }
 ],
 "metadata": {
  "kernelspec": {
   "display_name": "Python 3 (ipykernel)",
   "language": "python",
   "name": "python3"
  },
  "language_info": {
   "codemirror_mode": {
    "name": "ipython",
    "version": 3
   },
   "file_extension": ".py",
   "mimetype": "text/x-python",
   "name": "python",
   "nbconvert_exporter": "python",
   "pygments_lexer": "ipython3",
   "version": "3.9.12"
  }
 },
 "nbformat": 4,
 "nbformat_minor": 5
}
